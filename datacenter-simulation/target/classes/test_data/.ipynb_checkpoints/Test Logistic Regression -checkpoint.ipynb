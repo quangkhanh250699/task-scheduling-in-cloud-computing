{
 "cells": [
  {
   "cell_type": "code",
   "execution_count": 10,
   "id": "virtual-healthcare",
   "metadata": {},
   "outputs": [],
   "source": [
    "import findspark \n",
    "findspark.init(\"/home/quangkhanh/F/Applications/spark-3.0.1-bin-hadoop2.7/\")\n",
    "import pyspark\n",
    "from pyspark.sql.types import StructType, StructField, IntegerType, DoubleType\n",
    "from pyspark.ml.classification import LogisticRegression "
   ]
  },
  {
   "cell_type": "code",
   "execution_count": 8,
   "id": "marine-license",
   "metadata": {
    "scrolled": true
   },
   "outputs": [],
   "source": [
    "spark = pyspark.sql.SparkSession.builder.appName(\"Test\").getOrCreate()"
   ]
  },
  {
   "cell_type": "code",
   "execution_count": 13,
   "id": "located-repository",
   "metadata": {},
   "outputs": [],
   "source": [
    "id = StructField('id', IntegerType(), True)\n",
    "coming_time = StructField('coming_time', IntegerType(), True)\n",
    "priority = StructField('priority', IntegerType(), True)\n",
    "cpu_cores = StructField('cpu_cores', IntegerType(), True)\n",
    "cpu = StructField('cpu', DoubleType(), True)\n",
    "ram = StructField('ram', DoubleType(), True)\n",
    "bandwidth = StructField('bandwidth', DoubleType(), True)\n",
    "storage = StructField('storage', DoubleType(), True)\n",
    "length = StructField('length', IntegerType(), True)\n",
    "kind = StructField('kind', IntegerType(), True)\n",
    "\n",
    "schema = StructType([\n",
    "    id, coming_time, priority, cpu_cores, cpu, ram, bandwidth, storage, length, kind\n",
    "])"
   ]
  },
  {
   "cell_type": "code",
   "execution_count": 14,
   "id": "written-provision",
   "metadata": {},
   "outputs": [],
   "source": [
    "df = spark.read\\\n",
    "            .option(\"header\", True)\\\n",
    "            .schema(schema)\\\n",
    "            .csv(\"cloudlets_v2.csv\")"
   ]
  },
  {
   "cell_type": "code",
   "execution_count": 17,
   "id": "biblical-smooth",
   "metadata": {},
   "outputs": [
    {
     "name": "stdout",
     "output_type": "stream",
     "text": [
      "+---+-----------+--------+---------+-------------------+------------------+---------+-------+------+----+\n",
      "| id|coming_time|priority|cpu_cores|                cpu|               ram|bandwidth|storage|length|kind|\n",
      "+---+-----------+--------+---------+-------------------+------------------+---------+-------+------+----+\n",
      "|  0|          0|       0|        2|0.25674876705309424| 36.15292838297357|      0.0|    9.0|  1853|   0|\n",
      "|  1|          0|       0|        2| 0.1597945573311114|30.651150502006683|      0.0|    9.0|  1568|   0|\n",
      "|  2|          0|       0|        2|0.07337739268893811| 34.05469891793389|      0.0|   10.0|  1730|   0|\n",
      "+---+-----------+--------+---------+-------------------+------------------+---------+-------+------+----+\n",
      "only showing top 3 rows\n",
      "\n"
     ]
    }
   ],
   "source": [
    "df.show(3)"
   ]
  },
  {
   "cell_type": "code",
   "execution_count": 20,
   "id": "occupational-belfast",
   "metadata": {},
   "outputs": [],
   "source": [
    "from pyspark.ml.feature import VectorAssembler"
   ]
  },
  {
   "cell_type": "code",
   "execution_count": 21,
   "id": "outdoor-clinton",
   "metadata": {},
   "outputs": [],
   "source": [
    "vector_assembler = VectorAssembler(inputCols=['cpu', 'ram'], outputCol='feature')\n",
    "df_feature = vector_assembler.transform(df)"
   ]
  },
  {
   "cell_type": "code",
   "execution_count": 28,
   "id": "white-crash",
   "metadata": {},
   "outputs": [],
   "source": [
    "lr = LogisticRegression(featuresCol='feature', labelCol='kind')\n",
    "lrm = lr.fit(df_feature)"
   ]
  },
  {
   "cell_type": "code",
   "execution_count": 30,
   "id": "accompanied-joseph",
   "metadata": {},
   "outputs": [],
   "source": [
    "df_prediction = lrm.transform(df_feature)"
   ]
  },
  {
   "cell_type": "code",
   "execution_count": 41,
   "id": "sonic-filing",
   "metadata": {},
   "outputs": [
    {
     "ename": "NameError",
     "evalue": "name 'cast' is not defined",
     "output_type": "error",
     "traceback": [
      "\u001b[0;31m---------------------------------------------------------------------------\u001b[0m",
      "\u001b[0;31mNameError\u001b[0m                                 Traceback (most recent call last)",
      "\u001b[0;32m<ipython-input-41-7633c9e09c11>\u001b[0m in \u001b[0;36m<module>\u001b[0;34m\u001b[0m\n\u001b[1;32m      1\u001b[0m \u001b[0;32mfrom\u001b[0m \u001b[0mpyspark\u001b[0m\u001b[0;34m.\u001b[0m\u001b[0msql\u001b[0m\u001b[0;34m.\u001b[0m\u001b[0mfunctions\u001b[0m \u001b[0;32mimport\u001b[0m \u001b[0mcol\u001b[0m\u001b[0;34m\u001b[0m\u001b[0;34m\u001b[0m\u001b[0m\n\u001b[0;32m----> 2\u001b[0;31m \u001b[0mdf_prediction\u001b[0m\u001b[0;34m.\u001b[0m\u001b[0mselectExpr\u001b[0m\u001b[0;34m(\u001b[0m\u001b[0mcast\u001b[0m\u001b[0;34m(\u001b[0m\u001b[0mcol\u001b[0m\u001b[0;34m(\u001b[0m\u001b[0;34m'kind'\u001b[0m\u001b[0;34m)\u001b[0m\u001b[0;34m,\u001b[0m \u001b[0mint\u001b[0m\u001b[0;34m)\u001b[0m\u001b[0;34m,\u001b[0m \u001b[0;34m'prediction'\u001b[0m\u001b[0;34m)\u001b[0m\u001b[0;34m.\u001b[0m\u001b[0mshow\u001b[0m\u001b[0;34m(\u001b[0m\u001b[0;34m)\u001b[0m\u001b[0;34m\u001b[0m\u001b[0;34m\u001b[0m\u001b[0m\n\u001b[0m",
      "\u001b[0;31mNameError\u001b[0m: name 'cast' is not defined"
     ]
    }
   ],
   "source": [
    "from pyspark.sql.functions import col\n",
    "df_prediction.selectExpr(col('kind'), 'prediction').show()"
   ]
  },
  {
   "cell_type": "code",
   "execution_count": null,
   "id": "funny-clothing",
   "metadata": {},
   "outputs": [],
   "source": []
  },
  {
   "cell_type": "code",
   "execution_count": null,
   "id": "three-queens",
   "metadata": {},
   "outputs": [],
   "source": []
  }
 ],
 "metadata": {
  "kernelspec": {
   "display_name": "Python 3",
   "language": "python",
   "name": "python3"
  },
  "language_info": {
   "codemirror_mode": {
    "name": "ipython",
    "version": 3
   },
   "file_extension": ".py",
   "mimetype": "text/x-python",
   "name": "python",
   "nbconvert_exporter": "python",
   "pygments_lexer": "ipython3",
   "version": "3.8.5"
  }
 },
 "nbformat": 4,
 "nbformat_minor": 5
}
